{
 "cells": [
  {
   "cell_type": "markdown",
   "id": "1c60e094-9654-4372-8c76-2b5241a68dfa",
   "metadata": {},
   "source": [
    "# Recommender Model #1 \n",
    "---\n",
    "## Overview\n",
    "-\n",
    "-\n",
    "-\n"
   ]
  },
  {
   "cell_type": "markdown",
   "id": "e207c911-1255-4a42-b1df-c47a0530c2a4",
   "metadata": {},
   "source": [
    "## Imports"
   ]
  },
  {
   "cell_type": "code",
   "execution_count": 268,
   "id": "92e42a8c-b473-4859-8645-71124e85eaca",
   "metadata": {},
   "outputs": [],
   "source": [
    "# Imports needed to build Recommender\n",
    "import pandas as pd\n",
    "import re\n",
    "from sklearn.feature_extraction.text import TfidfVectorizer\n",
    "import ipywidgets as widgets\n",
    "from IPython.display import display\n",
    "from sklearn.metrics.pairwise import cosine_similarity\n",
    "import numpy as np"
   ]
  },
  {
   "cell_type": "markdown",
   "id": "e596b849-ca77-4e97-ac14-dce5e22d1ff3",
   "metadata": {},
   "source": [
    "## Load in product data"
   ]
  },
  {
   "cell_type": "code",
   "execution_count": 269,
   "id": "cb73bd3a-e8e8-438f-88cf-7d4e43dadaf4",
   "metadata": {},
   "outputs": [
    {
     "data": {
      "text/html": [
       "<div>\n",
       "<style scoped>\n",
       "    .dataframe tbody tr th:only-of-type {\n",
       "        vertical-align: middle;\n",
       "    }\n",
       "\n",
       "    .dataframe tbody tr th {\n",
       "        vertical-align: top;\n",
       "    }\n",
       "\n",
       "    .dataframe thead th {\n",
       "        text-align: right;\n",
       "    }\n",
       "</style>\n",
       "<table border=\"1\" class=\"dataframe\">\n",
       "  <thead>\n",
       "    <tr style=\"text-align: right;\">\n",
       "      <th></th>\n",
       "      <th>rating</th>\n",
       "      <th>product_id</th>\n",
       "      <th>product_name</th>\n",
       "      <th>brand_name</th>\n",
       "      <th>price_usd</th>\n",
       "      <th>category</th>\n",
       "    </tr>\n",
       "  </thead>\n",
       "  <tbody>\n",
       "    <tr>\n",
       "      <th>0</th>\n",
       "      <td>5</td>\n",
       "      <td>P504322</td>\n",
       "      <td>Gentle Hydra-Gel Face Cleanser</td>\n",
       "      <td>NUDESTIX</td>\n",
       "      <td>19</td>\n",
       "      <td>Cleansers</td>\n",
       "    </tr>\n",
       "    <tr>\n",
       "      <th>1</th>\n",
       "      <td>1</td>\n",
       "      <td>P420652</td>\n",
       "      <td>Lip Sleeping Mask Intense Hydration with Vitam...</td>\n",
       "      <td>LANEIGE</td>\n",
       "      <td>24</td>\n",
       "      <td>Lip Balms &amp; Treatments</td>\n",
       "    </tr>\n",
       "    <tr>\n",
       "      <th>2</th>\n",
       "      <td>5</td>\n",
       "      <td>P420652</td>\n",
       "      <td>Lip Sleeping Mask Intense Hydration with Vitam...</td>\n",
       "      <td>LANEIGE</td>\n",
       "      <td>24</td>\n",
       "      <td>Lip Balms &amp; Treatments</td>\n",
       "    </tr>\n",
       "    <tr>\n",
       "      <th>3</th>\n",
       "      <td>5</td>\n",
       "      <td>P420652</td>\n",
       "      <td>Lip Sleeping Mask Intense Hydration with Vitam...</td>\n",
       "      <td>LANEIGE</td>\n",
       "      <td>24</td>\n",
       "      <td>Lip Balms &amp; Treatments</td>\n",
       "    </tr>\n",
       "    <tr>\n",
       "      <th>4</th>\n",
       "      <td>5</td>\n",
       "      <td>P420652</td>\n",
       "      <td>Lip Sleeping Mask Intense Hydration with Vitam...</td>\n",
       "      <td>LANEIGE</td>\n",
       "      <td>24</td>\n",
       "      <td>Lip Balms &amp; Treatments</td>\n",
       "    </tr>\n",
       "  </tbody>\n",
       "</table>\n",
       "</div>"
      ],
      "text/plain": [
       "   rating product_id                                       product_name  \\\n",
       "0       5    P504322                     Gentle Hydra-Gel Face Cleanser   \n",
       "1       1    P420652  Lip Sleeping Mask Intense Hydration with Vitam...   \n",
       "2       5    P420652  Lip Sleeping Mask Intense Hydration with Vitam...   \n",
       "3       5    P420652  Lip Sleeping Mask Intense Hydration with Vitam...   \n",
       "4       5    P420652  Lip Sleeping Mask Intense Hydration with Vitam...   \n",
       "\n",
       "  brand_name  price_usd                category  \n",
       "0   NUDESTIX         19               Cleansers  \n",
       "1    LANEIGE         24  Lip Balms & Treatments  \n",
       "2    LANEIGE         24  Lip Balms & Treatments  \n",
       "3    LANEIGE         24  Lip Balms & Treatments  \n",
       "4    LANEIGE         24  Lip Balms & Treatments  "
      ]
     },
     "execution_count": 269,
     "metadata": {},
     "output_type": "execute_result"
    }
   ],
   "source": [
    "# Load in data (only product info)\n",
    "prod = pd.read_csv('../data/Clean-ALL_reviews.csv', lineterminator='\\n', low_memory=False , \n",
    "                   usecols=['product_id','product_name','brand_name','category','rating','price_usd'])\n",
    "prod.head()"
   ]
  },
  {
   "cell_type": "markdown",
   "id": "2033e78a-46fa-4526-8b82-df7cd0e95674",
   "metadata": {},
   "source": [
    "## Feature Engineering"
   ]
  },
  {
   "cell_type": "code",
   "execution_count": 270,
   "id": "307ee325-b636-4593-a048-079de9fe5290",
   "metadata": {},
   "outputs": [
    {
     "data": {
      "text/plain": [
       "0                    NUDESTIX Gentle Hydra-Gel Face Cleanser\n",
       "1          LANEIGE Lip Sleeping Mask Intense Hydration wi...\n",
       "2          LANEIGE Lip Sleeping Mask Intense Hydration wi...\n",
       "3          LANEIGE Lip Sleeping Mask Intense Hydration wi...\n",
       "4          LANEIGE Lip Sleeping Mask Intense Hydration wi...\n",
       "                                 ...                        \n",
       "1092732    StriVectin Multi Action Clear Acne Clearing Tr...\n",
       "1092733    StriVectin Multi Action Clear Acne Clearing Tr...\n",
       "1092734    StriVectin Multi Action Clear Acne Clearing Tr...\n",
       "1092735    StriVectin Multi Action Clear Acne Clearing Tr...\n",
       "1092736    StriVectin Multi Action Clear Acne Clearing Tr...\n",
       "Name: brand_product_name, Length: 1092737, dtype: object"
      ]
     },
     "execution_count": 270,
     "metadata": {},
     "output_type": "execute_result"
    }
   ],
   "source": [
    "# Create new column that combines the brand and product name \n",
    "prod['brand_product_name'] = prod['brand_name'] + ' ' + prod['product_name']\n",
    "prod['brand_product_name']"
   ]
  },
  {
   "cell_type": "code",
   "execution_count": 271,
   "id": "492450c0-7756-4a32-928f-9807575833f1",
   "metadata": {},
   "outputs": [],
   "source": [
    "# Drop old columns (not needed for this model)\n",
    "#prod.drop(columns=['brand_name', 'product_name'], inplace=True)"
   ]
  },
  {
   "cell_type": "markdown",
   "id": "4d5c0992-5a71-44fd-9ec5-31f49c9aaf72",
   "metadata": {},
   "source": [
    "## Creating the search engine for our model"
   ]
  },
  {
   "cell_type": "markdown",
   "id": "068e3536-ff7a-428b-a890-334400250daf",
   "metadata": {},
   "source": [
    "### Clean product name"
   ]
  },
  {
   "cell_type": "code",
   "execution_count": 272,
   "id": "83ff31aa-ba3d-48ba-91bc-4d2f23446772",
   "metadata": {},
   "outputs": [],
   "source": [
    "# Create a function that cleans the product's name using regex to simplify search\n",
    "def clean_product_name(product):\n",
    "    return re.sub(\"[^a-zA-Z0-9!%^&()\\+\\'\\\"]\", \"\", product)"
   ]
  },
  {
   "cell_type": "code",
   "execution_count": 273,
   "id": "34694fea-f8f3-4d9f-92c8-070e6ae576fb",
   "metadata": {},
   "outputs": [],
   "source": [
    "# Create new column for the clean product brand name\n",
    "#prod['clean_brand_product_name'] = prod['brand_product_name'].apply(clean_product_name)"
   ]
  },
  {
   "cell_type": "code",
   "execution_count": 274,
   "id": "7f9a026f-8af0-4382-97ac-7b4c76a9c9e2",
   "metadata": {},
   "outputs": [],
   "source": [
    "# Create new column for the clean product brand name\n",
    "prod['clean_product_name'] = prod['product_name'].apply(clean_product_name)"
   ]
  },
  {
   "cell_type": "markdown",
   "id": "08199270-83f3-46e8-b3e4-a0621fb830ee",
   "metadata": {},
   "source": [
    "### Use TFIDF to convert names into numbers"
   ]
  },
  {
   "cell_type": "code",
   "execution_count": 275,
   "id": "5997dd08-9bca-471f-8acf-ab12ba18d7fa",
   "metadata": {},
   "outputs": [],
   "source": [
    "# Convert product name into numbers\n",
    "# Instantiate vectorizer and set nrgram to (1,3) so it looks at unigrams, bigrams, and trigrams\n",
    "vectorizer = TfidfVectorizer(ngram_range=(1,3))\n",
    "\n",
    "# Convert set of numbers into matrix\n",
    "tfidf = vectorizer.fit_transform(prod['clean_product_name'])"
   ]
  },
  {
   "cell_type": "markdown",
   "id": "b191b8db-8e67-4535-9921-c17f4dffa762",
   "metadata": {},
   "source": [
    "### Compute similarities btwn entered term and all of the products"
   ]
  },
  {
   "cell_type": "markdown",
   "id": "0dd482a3-cfd8-46f5-832a-3d0991e335c2",
   "metadata": {},
   "source": [
    "   \n",
    "# Claculate similairy between search term and product name\n",
    "def search(product):\n",
    "    product = clean_product_name(product)\n",
    "    query_vec= vectorizer.transform([product])\n",
    "    similarity = cosine_similarity(query_vec, tfidf).flatten()\n",
    "    indices = np.argpartition(similarity, -5)[-5:]\n",
    "    results = prod.iloc[indices].iloc[::-1]\n",
    "    \n",
    "    return results"
   ]
  },
  {
   "cell_type": "code",
   "execution_count": 276,
   "id": "883fa046-0589-4458-a0b1-5c19e0566d4e",
   "metadata": {},
   "outputs": [],
   "source": [
    "# Create a function that calculates similarity btwn search term and product name\n",
    "def search(product):\n",
    "    product= clean_product_name(product)\n",
    "    query_vec = vectorizer.transform([product])\n",
    "    similarity =cosine_similarity(query_vec, tfidf).flatten()\n",
    "    indices =np.argsort(similarity)[-5:][::-1]\n",
    "    results = prod.iloc[indices]\n",
    "    return results"
   ]
  },
  {
   "cell_type": "markdown",
   "id": "e860667e-f8dc-42ff-ac43-4bff3c469f6d",
   "metadata": {},
   "source": [
    "### Create interactive search box"
   ]
  },
  {
   "cell_type": "code",
   "execution_count": 277,
   "id": "d8cde086-efdb-4431-a3cb-bf70ccb9e581",
   "metadata": {},
   "outputs": [
    {
     "data": {
      "application/vnd.jupyter.widget-view+json": {
       "model_id": "11704fddd12a44c9b71be174726edb7b",
       "version_major": 2,
       "version_minor": 0
      },
      "text/plain": [
       "Text(value='', description='Search:')"
      ]
     },
     "metadata": {},
     "output_type": "display_data"
    },
    {
     "data": {
      "application/vnd.jupyter.widget-view+json": {
       "model_id": "b2495bfdc7eb4b51a3af56324c9f5062",
       "version_major": 2,
       "version_minor": 0
      },
      "text/plain": [
       "Output()"
      ]
     },
     "metadata": {},
     "output_type": "display_data"
    }
   ],
   "source": [
    "# Input widget that receives a text\n",
    "product_input = widgets.Text(\n",
    "                value='',# default \n",
    "                description='Search:')\n",
    "# Output widget that displays results\n",
    "\n",
    "product_list = widgets.Output()\n",
    "\n",
    "# function that is called when text is written in box\n",
    "def on_type(data):\n",
    "    with product_list:\n",
    "        product_list.clear_output()\n",
    "        product = data['new']\n",
    "        if len(product)>4:\n",
    "            display(search(product))\n",
    "\n",
    "product_input.observe(on_type, names='value')\n",
    "            \n",
    "display(product_input, product_list)"
   ]
  },
  {
   "cell_type": "code",
   "execution_count": null,
   "id": "2815b520-17c3-4aeb-be1a-e745f18aefe4",
   "metadata": {},
   "outputs": [],
   "source": []
  },
  {
   "cell_type": "code",
   "execution_count": null,
   "id": "ab07a545-6a9e-42a0-867b-0a26e6e62791",
   "metadata": {},
   "outputs": [],
   "source": []
  },
  {
   "cell_type": "markdown",
   "id": "bdaf90fb-d3b1-4c72-9fa5-a6467bb131c5",
   "metadata": {},
   "source": [
    "### Loading in ratings from similar products"
   ]
  },
  {
   "cell_type": "code",
   "execution_count": 278,
   "id": "9202ab40-040d-4234-b73a-f7e01be2ff62",
   "metadata": {},
   "outputs": [
    {
     "data": {
      "text/html": [
       "<div>\n",
       "<style scoped>\n",
       "    .dataframe tbody tr th:only-of-type {\n",
       "        vertical-align: middle;\n",
       "    }\n",
       "\n",
       "    .dataframe tbody tr th {\n",
       "        vertical-align: top;\n",
       "    }\n",
       "\n",
       "    .dataframe thead th {\n",
       "        text-align: right;\n",
       "    }\n",
       "</style>\n",
       "<table border=\"1\" class=\"dataframe\">\n",
       "  <thead>\n",
       "    <tr style=\"text-align: right;\">\n",
       "      <th></th>\n",
       "      <th>author_id</th>\n",
       "      <th>rating</th>\n",
       "      <th>is_recommended</th>\n",
       "      <th>product_id</th>\n",
       "      <th>loves_count</th>\n",
       "    </tr>\n",
       "  </thead>\n",
       "  <tbody>\n",
       "    <tr>\n",
       "      <th>0</th>\n",
       "      <td>1741593524</td>\n",
       "      <td>5</td>\n",
       "      <td>1</td>\n",
       "      <td>P504322</td>\n",
       "      <td>177</td>\n",
       "    </tr>\n",
       "    <tr>\n",
       "      <th>1</th>\n",
       "      <td>31423088263</td>\n",
       "      <td>1</td>\n",
       "      <td>0</td>\n",
       "      <td>P420652</td>\n",
       "      <td>1081315</td>\n",
       "    </tr>\n",
       "    <tr>\n",
       "      <th>2</th>\n",
       "      <td>5061282401</td>\n",
       "      <td>5</td>\n",
       "      <td>1</td>\n",
       "      <td>P420652</td>\n",
       "      <td>1081315</td>\n",
       "    </tr>\n",
       "    <tr>\n",
       "      <th>3</th>\n",
       "      <td>6083038851</td>\n",
       "      <td>5</td>\n",
       "      <td>1</td>\n",
       "      <td>P420652</td>\n",
       "      <td>1081315</td>\n",
       "    </tr>\n",
       "    <tr>\n",
       "      <th>4</th>\n",
       "      <td>47056667835</td>\n",
       "      <td>5</td>\n",
       "      <td>1</td>\n",
       "      <td>P420652</td>\n",
       "      <td>1081315</td>\n",
       "    </tr>\n",
       "  </tbody>\n",
       "</table>\n",
       "</div>"
      ],
      "text/plain": [
       "     author_id  rating  is_recommended product_id  loves_count\n",
       "0   1741593524       5               1    P504322          177\n",
       "1  31423088263       1               0    P420652      1081315\n",
       "2   5061282401       5               1    P420652      1081315\n",
       "3   6083038851       5               1    P420652      1081315\n",
       "4  47056667835       5               1    P420652      1081315"
      ]
     },
     "execution_count": 278,
     "metadata": {},
     "output_type": "execute_result"
    }
   ],
   "source": [
    "# Load in ratings\n",
    "ratings = pd.read_csv('../data/Clean-ALL_reviews.csv', lineterminator='\\n',low_memory=False,\n",
    "                     usecols=['rating', 'loves_count', 'product_id','author_id', 'is_recommended'])\n",
    "ratings.head()"
   ]
  },
  {
   "cell_type": "code",
   "execution_count": 280,
   "id": "e8e1f0f8-fe68-4d7e-bc56-c739b7fe723d",
   "metadata": {},
   "outputs": [],
   "source": [
    "# Find authors who like same products\n",
    "similar_users= ratings[(ratings[\"product_id\"] == prod_id) & (ratings[\"rating\"] > 4)][\"author_id\"].unique()\n",
    "similar_user_recs = ratings[(ratings[\"author_id\"].isin(similar_users)) & (ratings[\"rating\"] > 4)][\"product_id\"]\n",
    "\n",
    "similar_user_recs = similar_user_recs.value_counts() / len(similar_users)\n",
    "\n",
    "similar_user_recs = similar_user_recs[similar_user_recs > .10]"
   ]
  },
  {
   "cell_type": "code",
   "execution_count": 281,
   "id": "250d592b-e733-4ba6-95ac-f8a88e305e3c",
   "metadata": {},
   "outputs": [],
   "source": [
    "all_users = ratings[(ratings[\"product_id\"].isin(similar_user_recs.index)) & (ratings[\"rating\"] > 4)]\n"
   ]
  },
  {
   "cell_type": "code",
   "execution_count": 282,
   "id": "bc10961d-93f9-45fb-987a-2d019e405a06",
   "metadata": {},
   "outputs": [],
   "source": [
    "\n",
    "all_user_recs = all_users[\"product_id\"].value_counts() / len(all_users[\"author_id\"].unique())"
   ]
  },
  {
   "cell_type": "code",
   "execution_count": 283,
   "id": "9e721d2e-8444-4380-ab1b-928e80a11824",
   "metadata": {},
   "outputs": [],
   "source": [
    "rec_percentages = pd.concat([similar_user_recs, all_user_recs], axis=1)\n",
    "rec_percentages.columns = [\"similar\", \"all\"]"
   ]
  },
  {
   "cell_type": "code",
   "execution_count": 284,
   "id": "45067cb6-5bd0-4298-a685-4bf9d784dc55",
   "metadata": {},
   "outputs": [
    {
     "data": {
      "text/html": [
       "<div>\n",
       "<style scoped>\n",
       "    .dataframe tbody tr th:only-of-type {\n",
       "        vertical-align: middle;\n",
       "    }\n",
       "\n",
       "    .dataframe tbody tr th {\n",
       "        vertical-align: top;\n",
       "    }\n",
       "\n",
       "    .dataframe thead th {\n",
       "        text-align: right;\n",
       "    }\n",
       "</style>\n",
       "<table border=\"1\" class=\"dataframe\">\n",
       "  <thead>\n",
       "    <tr style=\"text-align: right;\">\n",
       "      <th></th>\n",
       "      <th>similar</th>\n",
       "      <th>all</th>\n",
       "    </tr>\n",
       "  </thead>\n",
       "  <tbody>\n",
       "    <tr>\n",
       "      <th>P420652</th>\n",
       "      <td>1.015279</td>\n",
       "      <td>1.015279</td>\n",
       "    </tr>\n",
       "  </tbody>\n",
       "</table>\n",
       "</div>"
      ],
      "text/plain": [
       "          similar       all\n",
       "P420652  1.015279  1.015279"
      ]
     },
     "execution_count": 284,
     "metadata": {},
     "output_type": "execute_result"
    }
   ],
   "source": [
    "\n",
    "rec_percentages"
   ]
  },
  {
   "cell_type": "code",
   "execution_count": 285,
   "id": "27371297-047f-451e-a5f1-0a4089635548",
   "metadata": {},
   "outputs": [],
   "source": [
    "rec_percentages[\"score\"] = rec_percentages[\"similar\"] / rec_percentages[\"all\"]"
   ]
  },
  {
   "cell_type": "code",
   "execution_count": 286,
   "id": "f833935f-c9e6-423d-8e31-2e8dfac4bb79",
   "metadata": {},
   "outputs": [],
   "source": [
    "rec_percentages = rec_percentages.sort_values(\"score\", ascending=False)"
   ]
  },
  {
   "cell_type": "code",
   "execution_count": 287,
   "id": "780cea1d-0fb5-45a5-8a35-1f9c0b0282d4",
   "metadata": {},
   "outputs": [
    {
     "data": {
      "text/html": [
       "<div>\n",
       "<style scoped>\n",
       "    .dataframe tbody tr th:only-of-type {\n",
       "        vertical-align: middle;\n",
       "    }\n",
       "\n",
       "    .dataframe tbody tr th {\n",
       "        vertical-align: top;\n",
       "    }\n",
       "\n",
       "    .dataframe thead th {\n",
       "        text-align: right;\n",
       "    }\n",
       "</style>\n",
       "<table border=\"1\" class=\"dataframe\">\n",
       "  <thead>\n",
       "    <tr style=\"text-align: right;\">\n",
       "      <th></th>\n",
       "      <th>similar</th>\n",
       "      <th>all</th>\n",
       "      <th>score</th>\n",
       "      <th>rating</th>\n",
       "      <th>product_id</th>\n",
       "      <th>product_name</th>\n",
       "      <th>brand_name</th>\n",
       "      <th>price_usd</th>\n",
       "      <th>category</th>\n",
       "      <th>brand_product_name</th>\n",
       "      <th>clean_product_name</th>\n",
       "    </tr>\n",
       "  </thead>\n",
       "  <tbody>\n",
       "    <tr>\n",
       "      <th>1</th>\n",
       "      <td>1.015279</td>\n",
       "      <td>1.015279</td>\n",
       "      <td>1.0</td>\n",
       "      <td>1</td>\n",
       "      <td>P420652</td>\n",
       "      <td>Lip Sleeping Mask Intense Hydration with Vitam...</td>\n",
       "      <td>LANEIGE</td>\n",
       "      <td>24</td>\n",
       "      <td>Lip Balms &amp; Treatments</td>\n",
       "      <td>LANEIGE Lip Sleeping Mask Intense Hydration wi...</td>\n",
       "      <td>LipSleepingMaskIntenseHydrationwithVitaminC</td>\n",
       "    </tr>\n",
       "    <tr>\n",
       "      <th>2</th>\n",
       "      <td>1.015279</td>\n",
       "      <td>1.015279</td>\n",
       "      <td>1.0</td>\n",
       "      <td>5</td>\n",
       "      <td>P420652</td>\n",
       "      <td>Lip Sleeping Mask Intense Hydration with Vitam...</td>\n",
       "      <td>LANEIGE</td>\n",
       "      <td>24</td>\n",
       "      <td>Lip Balms &amp; Treatments</td>\n",
       "      <td>LANEIGE Lip Sleeping Mask Intense Hydration wi...</td>\n",
       "      <td>LipSleepingMaskIntenseHydrationwithVitaminC</td>\n",
       "    </tr>\n",
       "    <tr>\n",
       "      <th>3</th>\n",
       "      <td>1.015279</td>\n",
       "      <td>1.015279</td>\n",
       "      <td>1.0</td>\n",
       "      <td>5</td>\n",
       "      <td>P420652</td>\n",
       "      <td>Lip Sleeping Mask Intense Hydration with Vitam...</td>\n",
       "      <td>LANEIGE</td>\n",
       "      <td>24</td>\n",
       "      <td>Lip Balms &amp; Treatments</td>\n",
       "      <td>LANEIGE Lip Sleeping Mask Intense Hydration wi...</td>\n",
       "      <td>LipSleepingMaskIntenseHydrationwithVitaminC</td>\n",
       "    </tr>\n",
       "    <tr>\n",
       "      <th>4</th>\n",
       "      <td>1.015279</td>\n",
       "      <td>1.015279</td>\n",
       "      <td>1.0</td>\n",
       "      <td>5</td>\n",
       "      <td>P420652</td>\n",
       "      <td>Lip Sleeping Mask Intense Hydration with Vitam...</td>\n",
       "      <td>LANEIGE</td>\n",
       "      <td>24</td>\n",
       "      <td>Lip Balms &amp; Treatments</td>\n",
       "      <td>LANEIGE Lip Sleeping Mask Intense Hydration wi...</td>\n",
       "      <td>LipSleepingMaskIntenseHydrationwithVitaminC</td>\n",
       "    </tr>\n",
       "    <tr>\n",
       "      <th>5</th>\n",
       "      <td>1.015279</td>\n",
       "      <td>1.015279</td>\n",
       "      <td>1.0</td>\n",
       "      <td>4</td>\n",
       "      <td>P420652</td>\n",
       "      <td>Lip Sleeping Mask Intense Hydration with Vitam...</td>\n",
       "      <td>LANEIGE</td>\n",
       "      <td>24</td>\n",
       "      <td>Lip Balms &amp; Treatments</td>\n",
       "      <td>LANEIGE Lip Sleeping Mask Intense Hydration wi...</td>\n",
       "      <td>LipSleepingMaskIntenseHydrationwithVitaminC</td>\n",
       "    </tr>\n",
       "    <tr>\n",
       "      <th>6</th>\n",
       "      <td>1.015279</td>\n",
       "      <td>1.015279</td>\n",
       "      <td>1.0</td>\n",
       "      <td>2</td>\n",
       "      <td>P420652</td>\n",
       "      <td>Lip Sleeping Mask Intense Hydration with Vitam...</td>\n",
       "      <td>LANEIGE</td>\n",
       "      <td>24</td>\n",
       "      <td>Lip Balms &amp; Treatments</td>\n",
       "      <td>LANEIGE Lip Sleeping Mask Intense Hydration wi...</td>\n",
       "      <td>LipSleepingMaskIntenseHydrationwithVitaminC</td>\n",
       "    </tr>\n",
       "    <tr>\n",
       "      <th>7</th>\n",
       "      <td>1.015279</td>\n",
       "      <td>1.015279</td>\n",
       "      <td>1.0</td>\n",
       "      <td>5</td>\n",
       "      <td>P420652</td>\n",
       "      <td>Lip Sleeping Mask Intense Hydration with Vitam...</td>\n",
       "      <td>LANEIGE</td>\n",
       "      <td>24</td>\n",
       "      <td>Lip Balms &amp; Treatments</td>\n",
       "      <td>LANEIGE Lip Sleeping Mask Intense Hydration wi...</td>\n",
       "      <td>LipSleepingMaskIntenseHydrationwithVitaminC</td>\n",
       "    </tr>\n",
       "    <tr>\n",
       "      <th>8</th>\n",
       "      <td>1.015279</td>\n",
       "      <td>1.015279</td>\n",
       "      <td>1.0</td>\n",
       "      <td>5</td>\n",
       "      <td>P420652</td>\n",
       "      <td>Lip Sleeping Mask Intense Hydration with Vitam...</td>\n",
       "      <td>LANEIGE</td>\n",
       "      <td>24</td>\n",
       "      <td>Lip Balms &amp; Treatments</td>\n",
       "      <td>LANEIGE Lip Sleeping Mask Intense Hydration wi...</td>\n",
       "      <td>LipSleepingMaskIntenseHydrationwithVitaminC</td>\n",
       "    </tr>\n",
       "    <tr>\n",
       "      <th>9</th>\n",
       "      <td>1.015279</td>\n",
       "      <td>1.015279</td>\n",
       "      <td>1.0</td>\n",
       "      <td>5</td>\n",
       "      <td>P420652</td>\n",
       "      <td>Lip Sleeping Mask Intense Hydration with Vitam...</td>\n",
       "      <td>LANEIGE</td>\n",
       "      <td>24</td>\n",
       "      <td>Lip Balms &amp; Treatments</td>\n",
       "      <td>LANEIGE Lip Sleeping Mask Intense Hydration wi...</td>\n",
       "      <td>LipSleepingMaskIntenseHydrationwithVitaminC</td>\n",
       "    </tr>\n",
       "    <tr>\n",
       "      <th>10</th>\n",
       "      <td>1.015279</td>\n",
       "      <td>1.015279</td>\n",
       "      <td>1.0</td>\n",
       "      <td>5</td>\n",
       "      <td>P420652</td>\n",
       "      <td>Lip Sleeping Mask Intense Hydration with Vitam...</td>\n",
       "      <td>LANEIGE</td>\n",
       "      <td>24</td>\n",
       "      <td>Lip Balms &amp; Treatments</td>\n",
       "      <td>LANEIGE Lip Sleeping Mask Intense Hydration wi...</td>\n",
       "      <td>LipSleepingMaskIntenseHydrationwithVitaminC</td>\n",
       "    </tr>\n",
       "  </tbody>\n",
       "</table>\n",
       "</div>"
      ],
      "text/plain": [
       "     similar       all  score  rating product_id  \\\n",
       "1   1.015279  1.015279    1.0       1    P420652   \n",
       "2   1.015279  1.015279    1.0       5    P420652   \n",
       "3   1.015279  1.015279    1.0       5    P420652   \n",
       "4   1.015279  1.015279    1.0       5    P420652   \n",
       "5   1.015279  1.015279    1.0       4    P420652   \n",
       "6   1.015279  1.015279    1.0       2    P420652   \n",
       "7   1.015279  1.015279    1.0       5    P420652   \n",
       "8   1.015279  1.015279    1.0       5    P420652   \n",
       "9   1.015279  1.015279    1.0       5    P420652   \n",
       "10  1.015279  1.015279    1.0       5    P420652   \n",
       "\n",
       "                                         product_name brand_name  price_usd  \\\n",
       "1   Lip Sleeping Mask Intense Hydration with Vitam...    LANEIGE         24   \n",
       "2   Lip Sleeping Mask Intense Hydration with Vitam...    LANEIGE         24   \n",
       "3   Lip Sleeping Mask Intense Hydration with Vitam...    LANEIGE         24   \n",
       "4   Lip Sleeping Mask Intense Hydration with Vitam...    LANEIGE         24   \n",
       "5   Lip Sleeping Mask Intense Hydration with Vitam...    LANEIGE         24   \n",
       "6   Lip Sleeping Mask Intense Hydration with Vitam...    LANEIGE         24   \n",
       "7   Lip Sleeping Mask Intense Hydration with Vitam...    LANEIGE         24   \n",
       "8   Lip Sleeping Mask Intense Hydration with Vitam...    LANEIGE         24   \n",
       "9   Lip Sleeping Mask Intense Hydration with Vitam...    LANEIGE         24   \n",
       "10  Lip Sleeping Mask Intense Hydration with Vitam...    LANEIGE         24   \n",
       "\n",
       "                  category                                 brand_product_name  \\\n",
       "1   Lip Balms & Treatments  LANEIGE Lip Sleeping Mask Intense Hydration wi...   \n",
       "2   Lip Balms & Treatments  LANEIGE Lip Sleeping Mask Intense Hydration wi...   \n",
       "3   Lip Balms & Treatments  LANEIGE Lip Sleeping Mask Intense Hydration wi...   \n",
       "4   Lip Balms & Treatments  LANEIGE Lip Sleeping Mask Intense Hydration wi...   \n",
       "5   Lip Balms & Treatments  LANEIGE Lip Sleeping Mask Intense Hydration wi...   \n",
       "6   Lip Balms & Treatments  LANEIGE Lip Sleeping Mask Intense Hydration wi...   \n",
       "7   Lip Balms & Treatments  LANEIGE Lip Sleeping Mask Intense Hydration wi...   \n",
       "8   Lip Balms & Treatments  LANEIGE Lip Sleeping Mask Intense Hydration wi...   \n",
       "9   Lip Balms & Treatments  LANEIGE Lip Sleeping Mask Intense Hydration wi...   \n",
       "10  Lip Balms & Treatments  LANEIGE Lip Sleeping Mask Intense Hydration wi...   \n",
       "\n",
       "                             clean_product_name  \n",
       "1   LipSleepingMaskIntenseHydrationwithVitaminC  \n",
       "2   LipSleepingMaskIntenseHydrationwithVitaminC  \n",
       "3   LipSleepingMaskIntenseHydrationwithVitaminC  \n",
       "4   LipSleepingMaskIntenseHydrationwithVitaminC  \n",
       "5   LipSleepingMaskIntenseHydrationwithVitaminC  \n",
       "6   LipSleepingMaskIntenseHydrationwithVitaminC  \n",
       "7   LipSleepingMaskIntenseHydrationwithVitaminC  \n",
       "8   LipSleepingMaskIntenseHydrationwithVitaminC  \n",
       "9   LipSleepingMaskIntenseHydrationwithVitaminC  \n",
       "10  LipSleepingMaskIntenseHydrationwithVitaminC  "
      ]
     },
     "execution_count": 287,
     "metadata": {},
     "output_type": "execute_result"
    }
   ],
   "source": [
    "rec_percentages.merge(prod, left_index=True, right_on=\"product_id\").head(10)"
   ]
  },
  {
   "cell_type": "code",
   "execution_count": 292,
   "id": "e400fbb2-4219-4ecb-8f22-3f78e8a7ef27",
   "metadata": {},
   "outputs": [],
   "source": [
    "def find_similar_products(prod_id):\n",
    "    similar_users= ratings[(ratings[\"product_id\"] == prod_id) & (ratings[\"rating\"] > 4)][\"author_id\"].unique()\n",
    "    similar_user_recs = ratings[(ratings[\"author_id\"].isin(similar_users)) & (ratings[\"rating\"] > 4)][\"product_id\"] \n",
    "    similar_user_recs = similar_user_recs.value_counts() / len(similar_users)\n",
    "    similar_user_recs = similar_user_recs[similar_user_recs > .10]\n",
    "    all_users = ratings[(ratings[\"product_id\"].isin(similar_user_recs.index)) & (ratings[\"rating\"] > 4)]\n",
    "    all_user_recs = all_users[\"product_id\"].value_counts() / len(all_users[\"author_id\"].unique())\n",
    "    rec_percentages = pd.concat([similar_user_recs, all_user_recs], axis=1)\n",
    "    rec_percentages.columns = [\"similar\", \"all\"]\n",
    "    rec_percentages[\"score\"] = rec_percentages[\"similar\"] / rec_percentages[\"all\"]\n",
    "    rec_percentages = rec_percentages.sort_values(\"score\", ascending=False)\n",
    "    return rec_percentages.merge(prod, left_index=True, right_on=\"product_id\").head(10)[[\"product_name\", \"brand_name\", \"price_usd\",'category']]\n"
   ]
  },
  {
   "cell_type": "code",
   "execution_count": 296,
   "id": "3238cc9c-a612-4d3c-815e-b9484c5929fe",
   "metadata": {},
   "outputs": [
    {
     "data": {
      "application/vnd.jupyter.widget-view+json": {
       "model_id": "9da725b55da649d1a881cba6625dcc03",
       "version_major": 2,
       "version_minor": 0
      },
      "text/plain": [
       "Text(value='Search', description='Product:')"
      ]
     },
     "metadata": {},
     "output_type": "display_data"
    },
    {
     "data": {
      "application/vnd.jupyter.widget-view+json": {
       "model_id": "f9616d7d757848898c0bd099f05e4ebf",
       "version_major": 2,
       "version_minor": 0
      },
      "text/plain": [
       "Output()"
      ]
     },
     "metadata": {},
     "output_type": "display_data"
    }
   ],
   "source": [
    "product_name_input = widgets.Text(\n",
    "    value='Search',\n",
    "    description='Product:',\n",
    "    disabled=False\n",
    ")\n",
    "recommendation_list = widgets.Output()\n",
    "\n",
    "def on_type(data):\n",
    "    with recommendation_list:\n",
    "        recommendation_list.clear_output()\n",
    "        product = data[\"new\"]\n",
    "        if len(product) > 5:\n",
    "            results = search(product)\n",
    "            product_id = results.iloc[0][\"product_id\"]\n",
    "            display(find_similar_products(product_id))\n",
    "\n",
    "product_name_input.observe(on_type, names='value')\n",
    "\n",
    "display(product_name_input, recommendation_list)"
   ]
  }
 ],
 "metadata": {
  "kernelspec": {
   "display_name": "Python 3 (ipykernel)",
   "language": "python",
   "name": "python3"
  },
  "language_info": {
   "codemirror_mode": {
    "name": "ipython",
    "version": 3
   },
   "file_extension": ".py",
   "mimetype": "text/x-python",
   "name": "python",
   "nbconvert_exporter": "python",
   "pygments_lexer": "ipython3",
   "version": "3.9.13"
  }
 },
 "nbformat": 4,
 "nbformat_minor": 5
}
