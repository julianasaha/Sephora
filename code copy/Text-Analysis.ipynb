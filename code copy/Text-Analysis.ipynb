{
 "cells": [
  {
   "cell_type": "markdown",
   "id": "51aa63cb-e4fd-4e9a-9425-20004331ffb7",
   "metadata": {},
   "source": [
    "# Text Analysis\n",
    "---\n",
    "## Overview\n",
    "- Perform\n",
    "-\n"
   ]
  },
  {
   "cell_type": "code",
   "execution_count": null,
   "id": "726b5578-30dd-49ce-8d14-3c277a9fb75f",
   "metadata": {},
   "outputs": [],
   "source": []
  }
 ],
 "metadata": {
  "kernelspec": {
   "display_name": "Python 3 (ipykernel)",
   "language": "python",
   "name": "python3"
  },
  "language_info": {
   "codemirror_mode": {
    "name": "ipython",
    "version": 3
   },
   "file_extension": ".py",
   "mimetype": "text/x-python",
   "name": "python",
   "nbconvert_exporter": "python",
   "pygments_lexer": "ipython3",
   "version": "3.9.13"
  }
 },
 "nbformat": 4,
 "nbformat_minor": 5
}
