{
 "cells": [
  {
   "cell_type": "markdown",
   "id": "1c60e094-9654-4372-8c76-2b5241a68dfa",
   "metadata": {},
   "source": [
    "# Recommender Model for Skincare Products\n",
    "---\n",
    "## Overview\n",
    "-\n",
    "-\n",
    "-\n",
    "\n",
    "\n",
    "*This recommender model was inspired and adapted from Vik Paruchuri's recommender model for movies.*\n",
    "\n",
    "*YouTube video:* https://www.youtube.com/watch?v=eyEabQRBMQA\n",
    "\n",
    "*GitHub repository:* https://github.com/dataquestio/project-walkthroughs/blob/master/movie_recs/movie_recommendations.ipynb \n"
   ]
  },
  {
   "cell_type": "markdown",
   "id": "e207c911-1255-4a42-b1df-c47a0530c2a4",
   "metadata": {},
   "source": [
    "## Imports"
   ]
  },
  {
   "cell_type": "code",
   "execution_count": 17,
   "id": "92e42a8c-b473-4859-8645-71124e85eaca",
   "metadata": {},
   "outputs": [],
   "source": [
    "# Imports needed to build recommender\n",
    "import pandas as pd\n",
    "import numpy as np\n",
    "import re\n",
    "from sklearn.feature_extraction.text import TfidfVectorizer\n",
    "import ipywidgets as widgets\n",
    "from IPython.display import display\n",
    "from sklearn.metrics.pairwise import cosine_similarity"
   ]
  },
  {
   "cell_type": "markdown",
   "id": "e596b849-ca77-4e97-ac14-dce5e22d1ff3",
   "metadata": {
    "tags": []
   },
   "source": [
    "## Load in product data"
   ]
  },
  {
   "cell_type": "code",
   "execution_count": 18,
   "id": "cb73bd3a-e8e8-438f-88cf-7d4e43dadaf4",
   "metadata": {},
   "outputs": [
    {
     "data": {
      "text/html": [
       "<div>\n",
       "<style scoped>\n",
       "    .dataframe tbody tr th:only-of-type {\n",
       "        vertical-align: middle;\n",
       "    }\n",
       "\n",
       "    .dataframe tbody tr th {\n",
       "        vertical-align: top;\n",
       "    }\n",
       "\n",
       "    .dataframe thead th {\n",
       "        text-align: right;\n",
       "    }\n",
       "</style>\n",
       "<table border=\"1\" class=\"dataframe\">\n",
       "  <thead>\n",
       "    <tr style=\"text-align: right;\">\n",
       "      <th></th>\n",
       "      <th>rating</th>\n",
       "      <th>product_id</th>\n",
       "      <th>product_name</th>\n",
       "      <th>brand_name</th>\n",
       "      <th>price_usd</th>\n",
       "      <th>size</th>\n",
       "      <th>category</th>\n",
       "    </tr>\n",
       "  </thead>\n",
       "  <tbody>\n",
       "    <tr>\n",
       "      <th>0</th>\n",
       "      <td>5</td>\n",
       "      <td>P504322</td>\n",
       "      <td>Gentle Hydra-Gel Face Cleanser</td>\n",
       "      <td>NUDESTIX</td>\n",
       "      <td>19</td>\n",
       "      <td>2.4 oz / 70 ml</td>\n",
       "      <td>Cleansers</td>\n",
       "    </tr>\n",
       "    <tr>\n",
       "      <th>1</th>\n",
       "      <td>1</td>\n",
       "      <td>P420652</td>\n",
       "      <td>Lip Sleeping Mask Intense Hydration with Vitam...</td>\n",
       "      <td>LANEIGE</td>\n",
       "      <td>24</td>\n",
       "      <td>0.7 oz/ 20 g</td>\n",
       "      <td>Lip Balms &amp; Treatments</td>\n",
       "    </tr>\n",
       "    <tr>\n",
       "      <th>2</th>\n",
       "      <td>5</td>\n",
       "      <td>P420652</td>\n",
       "      <td>Lip Sleeping Mask Intense Hydration with Vitam...</td>\n",
       "      <td>LANEIGE</td>\n",
       "      <td>24</td>\n",
       "      <td>0.7 oz/ 20 g</td>\n",
       "      <td>Lip Balms &amp; Treatments</td>\n",
       "    </tr>\n",
       "    <tr>\n",
       "      <th>3</th>\n",
       "      <td>5</td>\n",
       "      <td>P420652</td>\n",
       "      <td>Lip Sleeping Mask Intense Hydration with Vitam...</td>\n",
       "      <td>LANEIGE</td>\n",
       "      <td>24</td>\n",
       "      <td>0.7 oz/ 20 g</td>\n",
       "      <td>Lip Balms &amp; Treatments</td>\n",
       "    </tr>\n",
       "    <tr>\n",
       "      <th>4</th>\n",
       "      <td>5</td>\n",
       "      <td>P420652</td>\n",
       "      <td>Lip Sleeping Mask Intense Hydration with Vitam...</td>\n",
       "      <td>LANEIGE</td>\n",
       "      <td>24</td>\n",
       "      <td>0.7 oz/ 20 g</td>\n",
       "      <td>Lip Balms &amp; Treatments</td>\n",
       "    </tr>\n",
       "  </tbody>\n",
       "</table>\n",
       "</div>"
      ],
      "text/plain": [
       "   rating product_id                                       product_name  \\\n",
       "0       5    P504322                     Gentle Hydra-Gel Face Cleanser   \n",
       "1       1    P420652  Lip Sleeping Mask Intense Hydration with Vitam...   \n",
       "2       5    P420652  Lip Sleeping Mask Intense Hydration with Vitam...   \n",
       "3       5    P420652  Lip Sleeping Mask Intense Hydration with Vitam...   \n",
       "4       5    P420652  Lip Sleeping Mask Intense Hydration with Vitam...   \n",
       "\n",
       "  brand_name  price_usd            size                category  \n",
       "0   NUDESTIX         19  2.4 oz / 70 ml               Cleansers  \n",
       "1    LANEIGE         24    0.7 oz/ 20 g  Lip Balms & Treatments  \n",
       "2    LANEIGE         24    0.7 oz/ 20 g  Lip Balms & Treatments  \n",
       "3    LANEIGE         24    0.7 oz/ 20 g  Lip Balms & Treatments  \n",
       "4    LANEIGE         24    0.7 oz/ 20 g  Lip Balms & Treatments  "
      ]
     },
     "execution_count": 18,
     "metadata": {},
     "output_type": "execute_result"
    }
   ],
   "source": [
    "# Load in data (only product info)\n",
    "prod = pd.read_csv('../data/Clean-ALL_reviews.csv', lineterminator='\\n', low_memory=False , \n",
    "                   usecols=['product_id','product_name','brand_name','category','rating','size', 'price_usd'])\n",
    "prod.head()"
   ]
  },
  {
   "cell_type": "code",
   "execution_count": 19,
   "id": "fb452b77-7ddd-4771-8b53-13f5e4efb02b",
   "metadata": {},
   "outputs": [
    {
     "data": {
      "text/plain": [
       "2334"
      ]
     },
     "execution_count": 19,
     "metadata": {},
     "output_type": "execute_result"
    }
   ],
   "source": [
    "# Check out how many different products there are in this dataset\n",
    "prod['product_name'].nunique()"
   ]
  },
  {
   "cell_type": "markdown",
   "id": "2033e78a-46fa-4526-8b82-df7cd0e95674",
   "metadata": {
    "tags": []
   },
   "source": [
    "## Feature Engineering"
   ]
  },
  {
   "cell_type": "code",
   "execution_count": 20,
   "id": "307ee325-b636-4593-a048-079de9fe5290",
   "metadata": {},
   "outputs": [
    {
     "data": {
      "text/plain": [
       "0                    NUDESTIX Gentle Hydra-Gel Face Cleanser\n",
       "1          LANEIGE Lip Sleeping Mask Intense Hydration wi...\n",
       "2          LANEIGE Lip Sleeping Mask Intense Hydration wi...\n",
       "3          LANEIGE Lip Sleeping Mask Intense Hydration wi...\n",
       "4          LANEIGE Lip Sleeping Mask Intense Hydration wi...\n",
       "                                 ...                        \n",
       "1092732    StriVectin Multi Action Clear Acne Clearing Tr...\n",
       "1092733    StriVectin Multi Action Clear Acne Clearing Tr...\n",
       "1092734    StriVectin Multi Action Clear Acne Clearing Tr...\n",
       "1092735    StriVectin Multi Action Clear Acne Clearing Tr...\n",
       "1092736    StriVectin Multi Action Clear Acne Clearing Tr...\n",
       "Name: brand_product_name, Length: 1092737, dtype: object"
      ]
     },
     "execution_count": 20,
     "metadata": {},
     "output_type": "execute_result"
    }
   ],
   "source": [
    "# Create new column that combines the brand and product name \n",
    "prod['brand_product_name'] = prod['brand_name'] + ' ' + prod['product_name']\n",
    "prod['brand_product_name']"
   ]
  },
  {
   "cell_type": "markdown",
   "id": "4d5c0992-5a71-44fd-9ec5-31f49c9aaf72",
   "metadata": {
    "tags": []
   },
   "source": [
    "## Creating the search engine for our model"
   ]
  },
  {
   "cell_type": "markdown",
   "id": "068e3536-ff7a-428b-a890-334400250daf",
   "metadata": {},
   "source": [
    "### Clean product name"
   ]
  },
  {
   "cell_type": "code",
   "execution_count": 21,
   "id": "cd696577-cb38-49bd-82fb-ac5e2120cea8",
   "metadata": {},
   "outputs": [],
   "source": [
    "# Create a function that cleans the product's name to simplify search\n",
    "def clean_product_name(product):\n",
    "    special_chars = '!@#$%^&*()+='\n",
    "    for i in special_chars:\n",
    "        product = product.replace(i, '')\n",
    "    product = ' '.join(product.split())\n",
    "    return product.lower()\n"
   ]
  },
  {
   "cell_type": "code",
   "execution_count": 22,
   "id": "8bf1dafd-c513-4b57-916d-30c35aa4f790",
   "metadata": {},
   "outputs": [
    {
     "data": {
      "text/plain": [
       "'smooth fab travel size duo'"
      ]
     },
     "execution_count": 22,
     "metadata": {},
     "output_type": "execute_result"
    }
   ],
   "source": [
    "# Check that function works\n",
    "clean_product_name('Smooth + FAB )Travel Size Duo')"
   ]
  },
  {
   "cell_type": "code",
   "execution_count": 23,
   "id": "7f9a026f-8af0-4382-97ac-7b4c76a9c9e2",
   "metadata": {},
   "outputs": [],
   "source": [
    "# Create new column for the clean product name\n",
    "prod['clean_product_name'] = prod['product_name'].apply(clean_product_name)"
   ]
  },
  {
   "cell_type": "markdown",
   "id": "08199270-83f3-46e8-b3e4-a0621fb830ee",
   "metadata": {},
   "source": [
    "### Use TFIDF to convert names into numbers"
   ]
  },
  {
   "cell_type": "code",
   "execution_count": 24,
   "id": "5997dd08-9bca-471f-8acf-ab12ba18d7fa",
   "metadata": {},
   "outputs": [],
   "source": [
    "# Convert product name into numbers\n",
    "# Instantiate vectorizer and set nrgram to (1,3) so it looks at unigrams, bigrams, and trigrams\n",
    "vectorizer = TfidfVectorizer(ngram_range=(1,3))\n",
    "\n",
    "# Convert set of numbers into matrix\n",
    "tfidf = vectorizer.fit_transform(prod['clean_product_name'])"
   ]
  },
  {
   "cell_type": "markdown",
   "id": "b191b8db-8e67-4535-9921-c17f4dffa762",
   "metadata": {},
   "source": [
    "### Compute similarities btwn entered term and all of the products"
   ]
  },
  {
   "cell_type": "code",
   "execution_count": 25,
   "id": "94d20444-d16a-42c1-9b99-e6d1e70fe5b6",
   "metadata": {},
   "outputs": [],
   "source": [
    "# Create a function that calculates similarity btwn search term and product name, and returns results\n",
    "# Function code adapted from #https://www.youtube.com/watch?v=eyEabQRBMQA&t=671s, https://github.com/dataquestio/project-walkthroughs/blob/master/movie_recs/movie_recommendations.ipynb\n",
    "\n",
    "def search(product):\n",
    "    # apply the cleaning fucntion to the product that is entered \n",
    "    product = clean_product_name(product)\n",
    "    \n",
    "    # Use tfidf to convert search term into nums\n",
    "    search_term_num = vectorizer.transform([product])\n",
    "    \n",
    "    # Use cosine_similarity to find the similarities between search term and clean product name, results will be return in 1-dimensional array with flatten()\n",
    "    similarity = cosine_similarity(search_term_num, tfidf).flatten()\n",
    "    # Use argsort to return the indices of a sorted array\n",
    "    indices =np.argsort(similarity)[-10:][::-1]\n",
    "    \n",
    "    # Create a list comp that filters the indicies so it only returns unique product names\n",
    "    unique_prods = []\n",
    "    filtered_index = [i for i in indices if (prod.iloc[i]['product_name'] not in unique_prods) and not unique_prods.append(prod.iloc[i]['product_name'])]\n",
    "    results = prod.iloc[filtered_index]\n",
    "    \n",
    "    return results"
   ]
  },
  {
   "cell_type": "code",
   "execution_count": 26,
   "id": "450f0d6d-4b47-4fff-9a5f-600dada1ed6e",
   "metadata": {},
   "outputs": [
    {
     "data": {
      "text/html": [
       "<div>\n",
       "<style scoped>\n",
       "    .dataframe tbody tr th:only-of-type {\n",
       "        vertical-align: middle;\n",
       "    }\n",
       "\n",
       "    .dataframe tbody tr th {\n",
       "        vertical-align: top;\n",
       "    }\n",
       "\n",
       "    .dataframe thead th {\n",
       "        text-align: right;\n",
       "    }\n",
       "</style>\n",
       "<table border=\"1\" class=\"dataframe\">\n",
       "  <thead>\n",
       "    <tr style=\"text-align: right;\">\n",
       "      <th></th>\n",
       "      <th>rating</th>\n",
       "      <th>product_id</th>\n",
       "      <th>product_name</th>\n",
       "      <th>brand_name</th>\n",
       "      <th>price_usd</th>\n",
       "      <th>size</th>\n",
       "      <th>category</th>\n",
       "      <th>brand_product_name</th>\n",
       "      <th>clean_product_name</th>\n",
       "    </tr>\n",
       "  </thead>\n",
       "  <tbody>\n",
       "    <tr>\n",
       "      <th>0</th>\n",
       "      <td>5</td>\n",
       "      <td>P504322</td>\n",
       "      <td>Gentle Hydra-Gel Face Cleanser</td>\n",
       "      <td>NUDESTIX</td>\n",
       "      <td>19</td>\n",
       "      <td>2.4 oz / 70 ml</td>\n",
       "      <td>Cleansers</td>\n",
       "      <td>NUDESTIX Gentle Hydra-Gel Face Cleanser</td>\n",
       "      <td>gentle hydra-gel face cleanser</td>\n",
       "    </tr>\n",
       "    <tr>\n",
       "      <th>1076716</th>\n",
       "      <td>4</td>\n",
       "      <td>P504524</td>\n",
       "      <td>Milky Jelly Gentle Gel Face Cleanser</td>\n",
       "      <td>Glossier</td>\n",
       "      <td>19</td>\n",
       "      <td>6 oz / 177 mL</td>\n",
       "      <td>Cleansers</td>\n",
       "      <td>Glossier Milky Jelly Gentle Gel Face Cleanser</td>\n",
       "      <td>milky jelly gentle gel face cleanser</td>\n",
       "    </tr>\n",
       "  </tbody>\n",
       "</table>\n",
       "</div>"
      ],
      "text/plain": [
       "         rating product_id                          product_name brand_name  \\\n",
       "0             5    P504322        Gentle Hydra-Gel Face Cleanser   NUDESTIX   \n",
       "1076716       4    P504524  Milky Jelly Gentle Gel Face Cleanser   Glossier   \n",
       "\n",
       "         price_usd            size   category  \\\n",
       "0               19  2.4 oz / 70 ml  Cleansers   \n",
       "1076716         19   6 oz / 177 mL  Cleansers   \n",
       "\n",
       "                                    brand_product_name  \\\n",
       "0              NUDESTIX Gentle Hydra-Gel Face Cleanser   \n",
       "1076716  Glossier Milky Jelly Gentle Gel Face Cleanser   \n",
       "\n",
       "                           clean_product_name  \n",
       "0              gentle hydra-gel face cleanser  \n",
       "1076716  milky jelly gentle gel face cleanser  "
      ]
     },
     "execution_count": 26,
     "metadata": {},
     "output_type": "execute_result"
    }
   ],
   "source": [
    "search('Gentle Hydra-Gel Face Cleanser')"
   ]
  },
  {
   "cell_type": "markdown",
   "id": "e860667e-f8dc-42ff-ac43-4bff3c469f6d",
   "metadata": {},
   "source": [
    "### Create interactive search box"
   ]
  },
  {
   "cell_type": "code",
   "execution_count": 27,
   "id": "d8cde086-efdb-4431-a3cb-bf70ccb9e581",
   "metadata": {},
   "outputs": [
    {
     "data": {
      "application/vnd.jupyter.widget-view+json": {
       "model_id": "57e53f7bf2324eb9b4cd6c1c3d9e443e",
       "version_major": 2,
       "version_minor": 0
      },
      "text/plain": [
       "Text(value='', description='Search:', placeholder='Enter a product name')"
      ]
     },
     "metadata": {},
     "output_type": "display_data"
    },
    {
     "data": {
      "application/vnd.jupyter.widget-view+json": {
       "model_id": "13e454b2efa44c39ae0594b678bb4160",
       "version_major": 2,
       "version_minor": 0
      },
      "text/plain": [
       "Output()"
      ]
     },
     "metadata": {},
     "output_type": "display_data"
    }
   ],
   "source": [
    "# Create search engine \n",
    "# Code adapted from https://www.youtube.com/watch?v=eyEabQRBMQA&t=671s, https://github.com/dataquestio/project-walkthroughs/blob/master/movie_recs/movie_recommendations.ipynb\n",
    "# Input widget that receives a text\n",
    "product_input = widgets.Text(\n",
    "                value='',\n",
    "                placeholder = 'Enter a product name',\n",
    "                 description='Search:')\n",
    "\n",
    "# Output widget that displays results\n",
    "product_list = widgets.Output()\n",
    "\n",
    "# function that is called when text is written in box\n",
    "def on_type(data):\n",
    "    with product_list:\n",
    "        product_list.clear_output()\n",
    "        product = data['new']\n",
    "        if len(product)>3:\n",
    "            display(search(product))\n",
    "\n",
    "product_input.observe(on_type, names='value')\n",
    "            \n",
    "display(product_input, product_list)"
   ]
  },
  {
   "cell_type": "markdown",
   "id": "bdaf90fb-d3b1-4c72-9fa5-a6467bb131c5",
   "metadata": {},
   "source": [
    "### Loading in ratings from similar products"
   ]
  },
  {
   "cell_type": "code",
   "execution_count": 28,
   "id": "9202ab40-040d-4234-b73a-f7e01be2ff62",
   "metadata": {},
   "outputs": [
    {
     "data": {
      "text/html": [
       "<div>\n",
       "<style scoped>\n",
       "    .dataframe tbody tr th:only-of-type {\n",
       "        vertical-align: middle;\n",
       "    }\n",
       "\n",
       "    .dataframe tbody tr th {\n",
       "        vertical-align: top;\n",
       "    }\n",
       "\n",
       "    .dataframe thead th {\n",
       "        text-align: right;\n",
       "    }\n",
       "</style>\n",
       "<table border=\"1\" class=\"dataframe\">\n",
       "  <thead>\n",
       "    <tr style=\"text-align: right;\">\n",
       "      <th></th>\n",
       "      <th>author_id</th>\n",
       "      <th>rating</th>\n",
       "      <th>is_recommended</th>\n",
       "      <th>product_id</th>\n",
       "      <th>loves_count</th>\n",
       "    </tr>\n",
       "  </thead>\n",
       "  <tbody>\n",
       "    <tr>\n",
       "      <th>0</th>\n",
       "      <td>1741593524</td>\n",
       "      <td>5</td>\n",
       "      <td>1</td>\n",
       "      <td>P504322</td>\n",
       "      <td>177</td>\n",
       "    </tr>\n",
       "    <tr>\n",
       "      <th>1</th>\n",
       "      <td>31423088263</td>\n",
       "      <td>1</td>\n",
       "      <td>0</td>\n",
       "      <td>P420652</td>\n",
       "      <td>1081315</td>\n",
       "    </tr>\n",
       "    <tr>\n",
       "      <th>2</th>\n",
       "      <td>5061282401</td>\n",
       "      <td>5</td>\n",
       "      <td>1</td>\n",
       "      <td>P420652</td>\n",
       "      <td>1081315</td>\n",
       "    </tr>\n",
       "    <tr>\n",
       "      <th>3</th>\n",
       "      <td>6083038851</td>\n",
       "      <td>5</td>\n",
       "      <td>1</td>\n",
       "      <td>P420652</td>\n",
       "      <td>1081315</td>\n",
       "    </tr>\n",
       "    <tr>\n",
       "      <th>4</th>\n",
       "      <td>47056667835</td>\n",
       "      <td>5</td>\n",
       "      <td>1</td>\n",
       "      <td>P420652</td>\n",
       "      <td>1081315</td>\n",
       "    </tr>\n",
       "  </tbody>\n",
       "</table>\n",
       "</div>"
      ],
      "text/plain": [
       "     author_id  rating  is_recommended product_id  loves_count\n",
       "0   1741593524       5               1    P504322          177\n",
       "1  31423088263       1               0    P420652      1081315\n",
       "2   5061282401       5               1    P420652      1081315\n",
       "3   6083038851       5               1    P420652      1081315\n",
       "4  47056667835       5               1    P420652      1081315"
      ]
     },
     "execution_count": 28,
     "metadata": {},
     "output_type": "execute_result"
    }
   ],
   "source": [
    "# Load in ratings\n",
    "ratings = pd.read_csv('../data/Clean-ALL_reviews.csv', lineterminator='\\n',low_memory=False,\n",
    "                     usecols=['rating', 'loves_count', 'product_id','author_id', 'is_recommended'])\n",
    "ratings.head()"
   ]
  },
  {
   "cell_type": "code",
   "execution_count": 29,
   "id": "94ab6080-76aa-49ba-af13-4b069cd9429b",
   "metadata": {},
   "outputs": [
    {
     "data": {
      "text/plain": [
       "count    1092737.00\n",
       "mean      106744.30\n",
       "std       167544.72\n",
       "min            0.00\n",
       "25%        16632.00\n",
       "50%        48739.00\n",
       "75%       123439.00\n",
       "max      1081315.00\n",
       "Name: loves_count, dtype: float64"
      ]
     },
     "execution_count": 29,
     "metadata": {},
     "output_type": "execute_result"
    }
   ],
   "source": [
    "round(ratings['loves_count'].describe(),2)"
   ]
  },
  {
   "cell_type": "code",
   "execution_count": 30,
   "id": "bf919539-fad6-4c58-be2c-fa519f40f7d0",
   "metadata": {},
   "outputs": [],
   "source": [
    "def find_similar_products(prod_id): \n",
    "    \n",
    "    # Find users that like same product \n",
    "    alike_users = ratings[(ratings[\"product_id\"] == prod_id) & (ratings[\"is_recommended\"] == 1)][\"author_id\"].unique()\n",
    "    # Find products that alike users recommend\n",
    "    alike_user_recs= ratings[(ratings[\"author_id\"].isin(alike_users)) & (ratings[\"is_recommended\"] == 1)][\"product_id\"]\n",
    "\n",
    "    alike_user_recs = alike_user_recs.value_counts() / len(alike_users)\n",
    "\n",
    "    alike_user_recs= alike_user_recs[alike_user_recs > .10]\n",
    "\n",
    "    all_users = ratings[(ratings[\"product_id\"].isin(alike_user_recs.index)) & (ratings['is_recommended']==1)]\n",
    "\n",
    "    all_user_recs=  all_users[\"product_id\"].value_counts() / len(all_users[\"author_id\"].unique())\n",
    "\n",
    "    rec_percentages = pd.concat([alike_user_recs, all_user_recs], axis=1)\n",
    "    rec_percentages.columns = [\"similar\", \"all\"]\n",
    "    rec_percentages[\"score\"] = rec_percentages[\"similar\"] / rec_percentages[\"all\"]\n",
    "    rec_percentages = rec_percentages.sort_values(\"score\", ascending=False)\n",
    "    results = rec_percentages.merge(prod, left_index=True, right_on=\"product_id\").head(10)[['brand_product_name','price_usd','similar']]\n",
    "    results = results[['brand_product_name', 'price_usd','similar']].drop_duplicates()\n",
    "\n",
    "    return results"
   ]
  },
  {
   "cell_type": "code",
   "execution_count": 31,
   "id": "48eb341f-8956-4c26-99f0-3f80f07198b4",
   "metadata": {},
   "outputs": [
    {
     "data": {
      "application/vnd.jupyter.widget-view+json": {
       "model_id": "27fad129f0b848ffaaca094c849a7c0c",
       "version_major": 2,
       "version_minor": 0
      },
      "text/plain": [
       "Text(value='Search', description='Product:')"
      ]
     },
     "metadata": {},
     "output_type": "display_data"
    },
    {
     "data": {
      "application/vnd.jupyter.widget-view+json": {
       "model_id": "ae89e32c78804961a205eba1e2f11906",
       "version_major": 2,
       "version_minor": 0
      },
      "text/plain": [
       "Output()"
      ]
     },
     "metadata": {},
     "output_type": "display_data"
    }
   ],
   "source": [
    "product_name_input = widgets.Text(\n",
    "    value='Search',\n",
    "    description='Product:',\n",
    "    disabled=False\n",
    ")\n",
    "recommendation_list = widgets.Output()\n",
    "\n",
    "def on_type(data):\n",
    "    with recommendation_list:\n",
    "        recommendation_list.clear_output()\n",
    "        product = data[\"new\"]\n",
    "        #if len(product) > 5:\n",
    "        results = search(product)\n",
    "        product_id = results.iloc[0][\"product_id\"]\n",
    "        results = find_similar_products(product_id)\n",
    "        display(results)\n",
    "\n",
    "product_name_input.observe(on_type, names='value')\n",
    "\n",
    "display(product_name_input, recommendation_list)"
   ]
  }
 ],
 "metadata": {
  "kernelspec": {
   "display_name": "Python 3 (ipykernel)",
   "language": "python",
   "name": "python3"
  },
  "language_info": {
   "codemirror_mode": {
    "name": "ipython",
    "version": 3
   },
   "file_extension": ".py",
   "mimetype": "text/x-python",
   "name": "python",
   "nbconvert_exporter": "python",
   "pygments_lexer": "ipython3",
   "version": "3.9.13"
  }
 },
 "nbformat": 4,
 "nbformat_minor": 5
}
