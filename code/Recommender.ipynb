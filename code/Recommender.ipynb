{
 "cells": [
  {
   "cell_type": "markdown",
   "id": "1c60e094-9654-4372-8c76-2b5241a68dfa",
   "metadata": {},
   "source": [
    "# Recommendation System for Skincare Products\n",
    "---\n",
    "## Overview\n",
    "This recommender model was inspired and adapted from Vik Paruchuri's recommender model for movies.\n",
    "\n",
    "*YouTube video:* https://www.youtube.com/watch?v=eyEabQRBMQA\n",
    "\n",
    "*GitHub repository:* https://github.com/dataquestio/project-walkthroughs/blob/master/movie_recs/movie_recommendations.ipynb \n",
    "\n",
    "- Data containing product and rating information was loaded\n",
    "- Product and brand names were cleaned for further processing\n",
    "- A search function was implemented using cosine similarity and TF-IDF for finding similar products\n",
    "- A recommendation function was built to calculate recommendation scores based on user preferences and product popularity\n",
    "- An interactive recommendation widget was created "
   ]
  },
  {
   "cell_type": "markdown",
   "id": "e207c911-1255-4a42-b1df-c47a0530c2a4",
   "metadata": {
    "tags": []
   },
   "source": [
    "## Imports"
   ]
  },
  {
   "cell_type": "code",
   "execution_count": 538,
   "id": "92e42a8c-b473-4859-8645-71124e85eaca",
   "metadata": {},
   "outputs": [],
   "source": [
    "# Imports needed to build recommender\n",
    "import pandas as pd\n",
    "import numpy as np\n",
    "import re\n",
    "from sklearn.feature_extraction.text import TfidfVectorizer\n",
    "import ipywidgets as widgets\n",
    "from IPython.display import display\n",
    "from sklearn.metrics.pairwise import cosine_similarity"
   ]
  },
  {
   "cell_type": "markdown",
   "id": "e596b849-ca77-4e97-ac14-dce5e22d1ff3",
   "metadata": {
    "tags": []
   },
   "source": [
    "## Load in product/rating data"
   ]
  },
  {
   "cell_type": "code",
   "execution_count": 554,
   "id": "cb73bd3a-e8e8-438f-88cf-7d4e43dadaf4",
   "metadata": {},
   "outputs": [
    {
     "data": {
      "text/html": [
       "<div>\n",
       "<style scoped>\n",
       "    .dataframe tbody tr th:only-of-type {\n",
       "        vertical-align: middle;\n",
       "    }\n",
       "\n",
       "    .dataframe tbody tr th {\n",
       "        vertical-align: top;\n",
       "    }\n",
       "\n",
       "    .dataframe thead th {\n",
       "        text-align: right;\n",
       "    }\n",
       "</style>\n",
       "<table border=\"1\" class=\"dataframe\">\n",
       "  <thead>\n",
       "    <tr style=\"text-align: right;\">\n",
       "      <th></th>\n",
       "      <th>author_id</th>\n",
       "      <th>rating</th>\n",
       "      <th>is_recommended</th>\n",
       "      <th>product_id</th>\n",
       "      <th>product_name</th>\n",
       "      <th>brand_name</th>\n",
       "      <th>price_usd</th>\n",
       "      <th>loves_count</th>\n",
       "      <th>size</th>\n",
       "      <th>category</th>\n",
       "    </tr>\n",
       "  </thead>\n",
       "  <tbody>\n",
       "    <tr>\n",
       "      <th>0</th>\n",
       "      <td>1741593524</td>\n",
       "      <td>5</td>\n",
       "      <td>1</td>\n",
       "      <td>P504322</td>\n",
       "      <td>Gentle Hydra-Gel Face Cleanser</td>\n",
       "      <td>NUDESTIX</td>\n",
       "      <td>19</td>\n",
       "      <td>177</td>\n",
       "      <td>2.4 oz / 70 ml</td>\n",
       "      <td>Cleansers</td>\n",
       "    </tr>\n",
       "    <tr>\n",
       "      <th>1</th>\n",
       "      <td>31423088263</td>\n",
       "      <td>1</td>\n",
       "      <td>0</td>\n",
       "      <td>P420652</td>\n",
       "      <td>Lip Sleeping Mask Intense Hydration with Vitam...</td>\n",
       "      <td>LANEIGE</td>\n",
       "      <td>24</td>\n",
       "      <td>1081315</td>\n",
       "      <td>0.7 oz/ 20 g</td>\n",
       "      <td>Lip Balms &amp; Treatments</td>\n",
       "    </tr>\n",
       "    <tr>\n",
       "      <th>2</th>\n",
       "      <td>5061282401</td>\n",
       "      <td>5</td>\n",
       "      <td>1</td>\n",
       "      <td>P420652</td>\n",
       "      <td>Lip Sleeping Mask Intense Hydration with Vitam...</td>\n",
       "      <td>LANEIGE</td>\n",
       "      <td>24</td>\n",
       "      <td>1081315</td>\n",
       "      <td>0.7 oz/ 20 g</td>\n",
       "      <td>Lip Balms &amp; Treatments</td>\n",
       "    </tr>\n",
       "    <tr>\n",
       "      <th>3</th>\n",
       "      <td>6083038851</td>\n",
       "      <td>5</td>\n",
       "      <td>1</td>\n",
       "      <td>P420652</td>\n",
       "      <td>Lip Sleeping Mask Intense Hydration with Vitam...</td>\n",
       "      <td>LANEIGE</td>\n",
       "      <td>24</td>\n",
       "      <td>1081315</td>\n",
       "      <td>0.7 oz/ 20 g</td>\n",
       "      <td>Lip Balms &amp; Treatments</td>\n",
       "    </tr>\n",
       "    <tr>\n",
       "      <th>4</th>\n",
       "      <td>47056667835</td>\n",
       "      <td>5</td>\n",
       "      <td>1</td>\n",
       "      <td>P420652</td>\n",
       "      <td>Lip Sleeping Mask Intense Hydration with Vitam...</td>\n",
       "      <td>LANEIGE</td>\n",
       "      <td>24</td>\n",
       "      <td>1081315</td>\n",
       "      <td>0.7 oz/ 20 g</td>\n",
       "      <td>Lip Balms &amp; Treatments</td>\n",
       "    </tr>\n",
       "  </tbody>\n",
       "</table>\n",
       "</div>"
      ],
      "text/plain": [
       "     author_id  rating  is_recommended product_id  \\\n",
       "0   1741593524       5               1    P504322   \n",
       "1  31423088263       1               0    P420652   \n",
       "2   5061282401       5               1    P420652   \n",
       "3   6083038851       5               1    P420652   \n",
       "4  47056667835       5               1    P420652   \n",
       "\n",
       "                                        product_name brand_name  price_usd  \\\n",
       "0                     Gentle Hydra-Gel Face Cleanser   NUDESTIX         19   \n",
       "1  Lip Sleeping Mask Intense Hydration with Vitam...    LANEIGE         24   \n",
       "2  Lip Sleeping Mask Intense Hydration with Vitam...    LANEIGE         24   \n",
       "3  Lip Sleeping Mask Intense Hydration with Vitam...    LANEIGE         24   \n",
       "4  Lip Sleeping Mask Intense Hydration with Vitam...    LANEIGE         24   \n",
       "\n",
       "   loves_count            size                category  \n",
       "0          177  2.4 oz / 70 ml               Cleansers  \n",
       "1      1081315    0.7 oz/ 20 g  Lip Balms & Treatments  \n",
       "2      1081315    0.7 oz/ 20 g  Lip Balms & Treatments  \n",
       "3      1081315    0.7 oz/ 20 g  Lip Balms & Treatments  \n",
       "4      1081315    0.7 oz/ 20 g  Lip Balms & Treatments  "
      ]
     },
     "execution_count": 554,
     "metadata": {},
     "output_type": "execute_result"
    }
   ],
   "source": [
    "# Load in data\n",
    "prod = pd.read_csv('../data/Clean-ALL_reviews.csv', lineterminator='\\n', low_memory=False , \n",
    "                   usecols=['category','rating','size','price_usd', 'loves_count', 'product_id','author_id', 'is_recommended', 'brand_name', 'product_name'])\n",
    "prod.head()"
   ]
  },
  {
   "cell_type": "code",
   "execution_count": 540,
   "id": "fb452b77-7ddd-4771-8b53-13f5e4efb02b",
   "metadata": {},
   "outputs": [
    {
     "data": {
      "text/plain": [
       "2334"
      ]
     },
     "execution_count": 540,
     "metadata": {},
     "output_type": "execute_result"
    }
   ],
   "source": [
    "# Check out how many different products there are in this dataset\n",
    "prod['product_name'].nunique()"
   ]
  },
  {
   "cell_type": "markdown",
   "id": "2033e78a-46fa-4526-8b82-df7cd0e95674",
   "metadata": {
    "jp-MarkdownHeadingCollapsed": true,
    "tags": []
   },
   "source": [
    "## Feature Engineering"
   ]
  },
  {
   "cell_type": "code",
   "execution_count": 544,
   "id": "307ee325-b636-4593-a048-079de9fe5290",
   "metadata": {},
   "outputs": [
    {
     "data": {
      "text/plain": [
       "0                    NUDESTIX Gentle Hydra-Gel Face Cleanser\n",
       "1          LANEIGE Lip Sleeping Mask Intense Hydration wi...\n",
       "2          LANEIGE Lip Sleeping Mask Intense Hydration wi...\n",
       "3          LANEIGE Lip Sleeping Mask Intense Hydration wi...\n",
       "4          LANEIGE Lip Sleeping Mask Intense Hydration wi...\n",
       "                                 ...                        \n",
       "1092732    StriVectin Multi Action Clear Acne Clearing Tr...\n",
       "1092733    StriVectin Multi Action Clear Acne Clearing Tr...\n",
       "1092734    StriVectin Multi Action Clear Acne Clearing Tr...\n",
       "1092735    StriVectin Multi Action Clear Acne Clearing Tr...\n",
       "1092736    StriVectin Multi Action Clear Acne Clearing Tr...\n",
       "Name: brand_product_name, Length: 1092737, dtype: object"
      ]
     },
     "execution_count": 544,
     "metadata": {},
     "output_type": "execute_result"
    }
   ],
   "source": [
    "# Create new column that combines the brand and product name \n",
    "prod['brand_product_name'] = prod['brand_name'] + ' ' + prod['product_name']\n",
    "prod['brand_product_name']"
   ]
  },
  {
   "cell_type": "markdown",
   "id": "4d5c0992-5a71-44fd-9ec5-31f49c9aaf72",
   "metadata": {
    "tags": []
   },
   "source": [
    "## Create search function"
   ]
  },
  {
   "cell_type": "markdown",
   "id": "068e3536-ff7a-428b-a890-334400250daf",
   "metadata": {
    "tags": []
   },
   "source": [
    "### Clean brand product name"
   ]
  },
  {
   "cell_type": "code",
   "execution_count": 545,
   "id": "cd696577-cb38-49bd-82fb-ac5e2120cea8",
   "metadata": {},
   "outputs": [],
   "source": [
    "# Create a function that cleans the product's name to simplify search, remove special characters\n",
    "def clean_product_name(product):\n",
    "    special_chars = '!@#$%^&*()+='\n",
    "    for i in special_chars:\n",
    "        product = product.replace(i, '')\n",
    "    product = ' '.join(product.split())\n",
    "    return product.lower()"
   ]
  },
  {
   "cell_type": "code",
   "execution_count": 548,
   "id": "7f9a026f-8af0-4382-97ac-7b4c76a9c9e2",
   "metadata": {},
   "outputs": [],
   "source": [
    "# Create new column for the clean brand product name\n",
    "prod['clean_brand_product_name'] = prod['brand_product_name'].apply(clean_product_name)"
   ]
  },
  {
   "cell_type": "markdown",
   "id": "08199270-83f3-46e8-b3e4-a0621fb830ee",
   "metadata": {
    "tags": []
   },
   "source": [
    "### Use TFIDF to convert names into numbers"
   ]
  },
  {
   "cell_type": "code",
   "execution_count": 549,
   "id": "5997dd08-9bca-471f-8acf-ab12ba18d7fa",
   "metadata": {},
   "outputs": [],
   "source": [
    "# Convert product name into numbers for search engine\n",
    "# Instantiate vectorizer and set nrgram to (1,3) so it looks at unigrams, bigrams, and trigrams\n",
    "vectorizer = TfidfVectorizer(ngram_range=(1,3))\n",
    "\n",
    "# Convert set of numbers into matrix\n",
    "tfidf = vectorizer.fit_transform(prod['clean_brand_product_name'])"
   ]
  },
  {
   "cell_type": "markdown",
   "id": "b191b8db-8e67-4535-9921-c17f4dffa762",
   "metadata": {
    "tags": []
   },
   "source": [
    "### Compute similarities between entered term and all of the products"
   ]
  },
  {
   "cell_type": "code",
   "execution_count": 550,
   "id": "742d3d45-300e-4d99-baae-da46b35c69cc",
   "metadata": {},
   "outputs": [],
   "source": [
    "# Create a search function\n",
    "def search(product):\n",
    "    \n",
    "    product = clean_product_name(product)\n",
    "    search_term_num = vectorizer.transform([product])\n",
    "    similarity = cosine_similarity(search_term_num, tfidf).flatten()# numpy vector\n",
    "    indices =np.argpartition(similarity, -1000)[-1000:]# Finds the 1000 most similar products to our search term\n",
    "    results = prod.iloc[indices][::-1] # Inverse the order of results\n",
    "    unique_prods = []  # Create a list comp that filters the indicies so it only returns unique product names\n",
    "    filtered_index = [i for i in indices if (prod.iloc[i]['product_name'] not in unique_prods) and not unique_prods.append(prod.iloc[i]['product_name'])]\n",
    "    results = prod.iloc[filtered_index]\n",
    "    \n",
    "    return results"
   ]
  },
  {
   "cell_type": "code",
   "execution_count": 551,
   "id": "450f0d6d-4b47-4fff-9a5f-600dada1ed6e",
   "metadata": {},
   "outputs": [
    {
     "data": {
      "text/html": [
       "<div>\n",
       "<style scoped>\n",
       "    .dataframe tbody tr th:only-of-type {\n",
       "        vertical-align: middle;\n",
       "    }\n",
       "\n",
       "    .dataframe tbody tr th {\n",
       "        vertical-align: top;\n",
       "    }\n",
       "\n",
       "    .dataframe thead th {\n",
       "        text-align: right;\n",
       "    }\n",
       "</style>\n",
       "<table border=\"1\" class=\"dataframe\">\n",
       "  <thead>\n",
       "    <tr style=\"text-align: right;\">\n",
       "      <th></th>\n",
       "      <th>rating</th>\n",
       "      <th>product_id</th>\n",
       "      <th>product_name</th>\n",
       "      <th>brand_name</th>\n",
       "      <th>price_usd</th>\n",
       "      <th>loves_count</th>\n",
       "      <th>size</th>\n",
       "      <th>category</th>\n",
       "      <th>brand_product_name</th>\n",
       "      <th>clean_brand_product_name</th>\n",
       "    </tr>\n",
       "  </thead>\n",
       "  <tbody>\n",
       "    <tr>\n",
       "      <th>989090</th>\n",
       "      <td>1</td>\n",
       "      <td>P442757</td>\n",
       "      <td>\"B\" Oil</td>\n",
       "      <td>The Ordinary</td>\n",
       "      <td>11</td>\n",
       "      <td>49358</td>\n",
       "      <td>1 oz/ 30 mL</td>\n",
       "      <td>Moisturizers</td>\n",
       "      <td>The Ordinary \"B\" Oil</td>\n",
       "      <td>the ordinary \"b\" oil</td>\n",
       "    </tr>\n",
       "    <tr>\n",
       "      <th>707043</th>\n",
       "      <td>5</td>\n",
       "      <td>P444718</td>\n",
       "      <td>Squalane Cleanser</td>\n",
       "      <td>The Ordinary</td>\n",
       "      <td>9</td>\n",
       "      <td>121486</td>\n",
       "      <td>1.7 oz/ 50 mL</td>\n",
       "      <td>Cleansers</td>\n",
       "      <td>The Ordinary Squalane Cleanser</td>\n",
       "      <td>the ordinary squalane cleanser</td>\n",
       "    </tr>\n",
       "  </tbody>\n",
       "</table>\n",
       "</div>"
      ],
      "text/plain": [
       "        rating product_id       product_name    brand_name  price_usd  \\\n",
       "989090       1    P442757            \"B\" Oil  The Ordinary         11   \n",
       "707043       5    P444718  Squalane Cleanser  The Ordinary          9   \n",
       "\n",
       "        loves_count           size      category  \\\n",
       "989090        49358    1 oz/ 30 mL  Moisturizers   \n",
       "707043       121486  1.7 oz/ 50 mL     Cleansers   \n",
       "\n",
       "                    brand_product_name        clean_brand_product_name  \n",
       "989090            The Ordinary \"B\" Oil            the ordinary \"b\" oil  \n",
       "707043  The Ordinary Squalane Cleanser  the ordinary squalane cleanser  "
      ]
     },
     "execution_count": 551,
     "metadata": {},
     "output_type": "execute_result"
    }
   ],
   "source": [
    "search('The ordinary cleanser')"
   ]
  },
  {
   "cell_type": "code",
   "execution_count": 552,
   "id": "5b5fe58e-1f41-4071-b85a-d67f3bc155f7",
   "metadata": {},
   "outputs": [
    {
     "data": {
      "text/html": [
       "<div>\n",
       "<style scoped>\n",
       "    .dataframe tbody tr th:only-of-type {\n",
       "        vertical-align: middle;\n",
       "    }\n",
       "\n",
       "    .dataframe tbody tr th {\n",
       "        vertical-align: top;\n",
       "    }\n",
       "\n",
       "    .dataframe thead th {\n",
       "        text-align: right;\n",
       "    }\n",
       "</style>\n",
       "<table border=\"1\" class=\"dataframe\">\n",
       "  <thead>\n",
       "    <tr style=\"text-align: right;\">\n",
       "      <th></th>\n",
       "      <th>rating</th>\n",
       "      <th>product_id</th>\n",
       "      <th>product_name</th>\n",
       "      <th>brand_name</th>\n",
       "      <th>price_usd</th>\n",
       "      <th>loves_count</th>\n",
       "      <th>size</th>\n",
       "      <th>category</th>\n",
       "      <th>brand_product_name</th>\n",
       "      <th>clean_brand_product_name</th>\n",
       "    </tr>\n",
       "  </thead>\n",
       "  <tbody>\n",
       "    <tr>\n",
       "      <th>141004</th>\n",
       "      <td>3</td>\n",
       "      <td>P429952</td>\n",
       "      <td>Jet Lag Mask</td>\n",
       "      <td>Summer Fridays</td>\n",
       "      <td>49</td>\n",
       "      <td>245435</td>\n",
       "      <td>2.25 oz/ 64 g</td>\n",
       "      <td>Masks</td>\n",
       "      <td>Summer Fridays Jet Lag Mask</td>\n",
       "      <td>summer fridays jet lag mask</td>\n",
       "    </tr>\n",
       "    <tr>\n",
       "      <th>850786</th>\n",
       "      <td>5</td>\n",
       "      <td>P440504</td>\n",
       "      <td>R + R Mask</td>\n",
       "      <td>Summer Fridays</td>\n",
       "      <td>54</td>\n",
       "      <td>47304</td>\n",
       "      <td>2.25 oz/ 64 g</td>\n",
       "      <td>Masks</td>\n",
       "      <td>Summer Fridays R + R Mask</td>\n",
       "      <td>summer fridays r r mask</td>\n",
       "    </tr>\n",
       "  </tbody>\n",
       "</table>\n",
       "</div>"
      ],
      "text/plain": [
       "        rating product_id  product_name      brand_name  price_usd  \\\n",
       "141004       3    P429952  Jet Lag Mask  Summer Fridays         49   \n",
       "850786       5    P440504    R + R Mask  Summer Fridays         54   \n",
       "\n",
       "        loves_count           size category           brand_product_name  \\\n",
       "141004       245435  2.25 oz/ 64 g    Masks  Summer Fridays Jet Lag Mask   \n",
       "850786        47304  2.25 oz/ 64 g    Masks    Summer Fridays R + R Mask   \n",
       "\n",
       "           clean_brand_product_name  \n",
       "141004  summer fridays jet lag mask  \n",
       "850786      summer fridays r r mask  "
      ]
     },
     "execution_count": 552,
     "metadata": {},
     "output_type": "execute_result"
    }
   ],
   "source": [
    "search('summer fridays mask')"
   ]
  },
  {
   "cell_type": "markdown",
   "id": "92b4ed81-98f2-45c2-a093-b9ead844fc21",
   "metadata": {},
   "source": [
    "### Load ratings"
   ]
  },
  {
   "cell_type": "code",
   "execution_count": 582,
   "id": "b92c0221-8278-4291-8ad3-915da1b70240",
   "metadata": {},
   "outputs": [
    {
     "data": {
      "text/html": [
       "<div>\n",
       "<style scoped>\n",
       "    .dataframe tbody tr th:only-of-type {\n",
       "        vertical-align: middle;\n",
       "    }\n",
       "\n",
       "    .dataframe tbody tr th {\n",
       "        vertical-align: top;\n",
       "    }\n",
       "\n",
       "    .dataframe thead th {\n",
       "        text-align: right;\n",
       "    }\n",
       "</style>\n",
       "<table border=\"1\" class=\"dataframe\">\n",
       "  <thead>\n",
       "    <tr style=\"text-align: right;\">\n",
       "      <th></th>\n",
       "      <th>rating</th>\n",
       "      <th>product_id</th>\n",
       "      <th>author_id</th>\n",
       "      <th>is_recommended</th>\n",
       "      <th>product_name</th>\n",
       "    </tr>\n",
       "  </thead>\n",
       "  <tbody>\n",
       "    <tr>\n",
       "      <th>0</th>\n",
       "      <td>5</td>\n",
       "      <td>P504322</td>\n",
       "      <td>1741593524</td>\n",
       "      <td>1</td>\n",
       "      <td>Gentle Hydra-Gel Face Cleanser</td>\n",
       "    </tr>\n",
       "    <tr>\n",
       "      <th>1</th>\n",
       "      <td>1</td>\n",
       "      <td>P420652</td>\n",
       "      <td>31423088263</td>\n",
       "      <td>0</td>\n",
       "      <td>Lip Sleeping Mask Intense Hydration with Vitam...</td>\n",
       "    </tr>\n",
       "    <tr>\n",
       "      <th>2</th>\n",
       "      <td>5</td>\n",
       "      <td>P420652</td>\n",
       "      <td>5061282401</td>\n",
       "      <td>1</td>\n",
       "      <td>Lip Sleeping Mask Intense Hydration with Vitam...</td>\n",
       "    </tr>\n",
       "    <tr>\n",
       "      <th>3</th>\n",
       "      <td>5</td>\n",
       "      <td>P420652</td>\n",
       "      <td>6083038851</td>\n",
       "      <td>1</td>\n",
       "      <td>Lip Sleeping Mask Intense Hydration with Vitam...</td>\n",
       "    </tr>\n",
       "    <tr>\n",
       "      <th>4</th>\n",
       "      <td>5</td>\n",
       "      <td>P420652</td>\n",
       "      <td>47056667835</td>\n",
       "      <td>1</td>\n",
       "      <td>Lip Sleeping Mask Intense Hydration with Vitam...</td>\n",
       "    </tr>\n",
       "  </tbody>\n",
       "</table>\n",
       "</div>"
      ],
      "text/plain": [
       "   rating product_id    author_id  is_recommended  \\\n",
       "0       5    P504322   1741593524               1   \n",
       "1       1    P420652  31423088263               0   \n",
       "2       5    P420652   5061282401               1   \n",
       "3       5    P420652   6083038851               1   \n",
       "4       5    P420652  47056667835               1   \n",
       "\n",
       "                                        product_name  \n",
       "0                     Gentle Hydra-Gel Face Cleanser  \n",
       "1  Lip Sleeping Mask Intense Hydration with Vitam...  \n",
       "2  Lip Sleeping Mask Intense Hydration with Vitam...  \n",
       "3  Lip Sleeping Mask Intense Hydration with Vitam...  \n",
       "4  Lip Sleeping Mask Intense Hydration with Vitam...  "
      ]
     },
     "execution_count": 582,
     "metadata": {},
     "output_type": "execute_result"
    }
   ],
   "source": [
    "ratings = prod[['rating', 'product_id','author_id', 'is_recommended', 'product_name']]\n",
    "ratings.head()"
   ]
  },
  {
   "cell_type": "markdown",
   "id": "b2fc1462-201d-481c-9093-2afb690e4683",
   "metadata": {},
   "source": [
    "## Create interactive recommendation widget"
   ]
  },
  {
   "cell_type": "code",
   "execution_count": 583,
   "id": "5d2a03fc-a0f4-403b-955e-3fa27e9198f1",
   "metadata": {},
   "outputs": [],
   "source": [
    "# Create a function that finds similair products/brands based on users who have tried the same product and recommend it \n",
    "def find_similar_products(product_id):\n",
    "    \n",
    "    alike_users = ratings[(ratings[\"product_id\"] == product_id) &(ratings[\"is_recommended\"] == 1)][\"author_id\"].unique()\n",
    "    \n",
    "    alike_users_rec= ratings[(ratings[\"author_id\"].isin(alike_users)) &(ratings[\"is_recommended\"] == 1)][\"product_id\"].value_counts() / len(alike_users)\n",
    "    alike_users_rec = alike_users_rec[alike_users_rec > 0.029]\n",
    "    \n",
    "    all_users= ratings[(ratings[\"product_id\"].isin(alike_users_rec.index))&(ratings[\"is_recommended\"] == 1)]\n",
    "    \n",
    "    all_user_recs =all_users[\"product_id\"].value_counts() / len(all_users[\"author_id\"].unique())\n",
    "    \n",
    "    results= pd.concat([alike_users_rec, all_user_recs], axis=1, keys=[\"similar\", \"all\"])\n",
    "    results[\"score\"] = results[\"similar\"] / results[\"all\"]\n",
    "    results = results.sort_values(\"score\", ascending=False).head(8).merge(prod, left_index=True, right_on=\"product_id\")[[\"product_name\", \"price_usd\", \"brand_name\"]]\n",
    "    results = results.drop_duplicates(subset=[\"product_name\", \"brand_name\"])\n",
    "    return results"
   ]
  },
  {
   "cell_type": "code",
   "execution_count": 584,
   "id": "8a8650ef-e2d5-4d8c-8cb9-e2fc0d59967a",
   "metadata": {},
   "outputs": [
    {
     "data": {
      "application/vnd.jupyter.widget-view+json": {
       "model_id": "c099acab03764ec68180308a1b8f9a7b",
       "version_major": 2,
       "version_minor": 0
      },
      "text/plain": [
       "Text(value='', description='Product:', placeholder='Search')"
      ]
     },
     "metadata": {},
     "output_type": "display_data"
    },
    {
     "data": {
      "application/vnd.jupyter.widget-view+json": {
       "model_id": "be6dda3aa2e845e0b8fb4ad1c875d148",
       "version_major": 2,
       "version_minor": 0
      },
      "text/plain": [
       "Output()"
      ]
     },
     "metadata": {},
     "output_type": "display_data"
    }
   ],
   "source": [
    "# Create interactive recommendation widget\n",
    "product_name_input = widgets.Text(\n",
    "    value='',\n",
    "    placeholder = 'Search',\n",
    "    description='Product:'\n",
    ")\n",
    "\n",
    "recommendation_list = widgets.Output()\n",
    "\n",
    "def on_type(data):\n",
    "    with recommendation_list:\n",
    "        recommendation_list.clear_output()\n",
    "        product = data[\"new\"]\n",
    "        if len(product) > 3:\n",
    "            results = search(product)\n",
    "            product_id = results.iloc[0][\"product_id\"]\n",
    "            results = find_similar_products(product_id)\n",
    "            display(results)\n",
    "\n",
    "product_name_input.observe(on_type, names='value')\n",
    "\n",
    "display(product_name_input, recommendation_list)"
   ]
  },
  {
   "cell_type": "markdown",
   "id": "d428c12a-ce47-4e72-8fb1-e4fbbae2fd7a",
   "metadata": {},
   "source": [
    "**Inputs to test out**\n",
    "- Lip Balm\n",
    "- Sunscreen\n",
    "- Eye Cream\n",
    "- Pore Mask\n",
    "- Acne "
   ]
  }
 ],
 "metadata": {
  "kernelspec": {
   "display_name": "Python 3 (ipykernel)",
   "language": "python",
   "name": "python3"
  },
  "language_info": {
   "codemirror_mode": {
    "name": "ipython",
    "version": 3
   },
   "file_extension": ".py",
   "mimetype": "text/x-python",
   "name": "python",
   "nbconvert_exporter": "python",
   "pygments_lexer": "ipython3",
   "version": "3.9.13"
  }
 },
 "nbformat": 4,
 "nbformat_minor": 5
}
